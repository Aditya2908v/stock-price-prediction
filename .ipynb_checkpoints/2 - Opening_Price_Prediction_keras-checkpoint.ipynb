{
 "cells": [
  {
   "cell_type": "markdown",
   "metadata": {
    "colab_type": "text",
    "id": "esCkMaP7JXew"
   },
   "source": [
    "# Long Short Term Memory(LSTM) based - Stock predicition - # CPU based\n",
    "\n",
    "Aim -to predict the Opening stock price using past 60 day stock price.\n",
    "\n"
   ]
  },
  {
   "cell_type": "code",
   "execution_count": 2,
   "metadata": {
    "colab": {
     "base_uri": "https://localhost:8080/",
     "height": 89
    },
    "colab_type": "code",
    "id": "dwSlgPvaIn2D",
    "outputId": "955e1b24-bf4d-482c-8fe9-903c773a6b42"
   },
   "outputs": [],
   "source": [
    "import math\n",
    "import numpy as np\n",
    "import pandas as pd\n",
    "import pandas_datareader as web\n",
    "#from sklearn.tree import DecisionTreeRegressor\n",
    "#from sklearn.linear_model import LinearRegression\n",
    "#from sklearn.model_selection import train_test_split\n",
    "from sklearn.preprocessing import MinMaxScaler\n",
    "from keras.models import Sequential\n",
    "from keras.layers import Dense, LSTM, Dropout\n",
    "import matplotlib.pyplot as plt\n",
    "\n"
   ]
  },
  {
   "cell_type": "markdown",
   "metadata": {
    "colab_type": "text",
    "id": "yHHY9g9hObTw"
   },
   "source": [
    "## Data prep"
   ]
  },
  {
   "cell_type": "code",
   "execution_count": 3,
   "metadata": {
    "colab": {},
    "colab_type": "code",
    "id": "bZVF-_oVObU-"
   },
   "outputs": [],
   "source": [
    "ticker = 'AAPL' "
   ]
  },
  {
   "cell_type": "code",
   "execution_count": 4,
   "metadata": {
    "colab": {
     "base_uri": "https://localhost:8080/",
     "height": 455
    },
    "colab_type": "code",
    "id": "VnjvByqHIn3g",
    "outputId": "6a35373f-dcab-46fb-fa99-852c3633eacb"
   },
   "outputs": [
    {
     "data": {
      "text/html": [
       "<div>\n",
       "<style scoped>\n",
       "    .dataframe tbody tr th:only-of-type {\n",
       "        vertical-align: middle;\n",
       "    }\n",
       "\n",
       "    .dataframe tbody tr th {\n",
       "        vertical-align: top;\n",
       "    }\n",
       "\n",
       "    .dataframe thead th {\n",
       "        text-align: right;\n",
       "    }\n",
       "</style>\n",
       "<table border=\"1\" class=\"dataframe\">\n",
       "  <thead>\n",
       "    <tr style=\"text-align: right;\">\n",
       "      <th></th>\n",
       "      <th>Date</th>\n",
       "      <th>Open</th>\n",
       "      <th>High</th>\n",
       "      <th>Low</th>\n",
       "      <th>Close</th>\n",
       "      <th>Volume</th>\n",
       "      <th>Dividend</th>\n",
       "      <th>Split</th>\n",
       "      <th>Adj_Open</th>\n",
       "      <th>Adj_High</th>\n",
       "      <th>Adj_Low</th>\n",
       "      <th>Adj_Close</th>\n",
       "      <th>Adj_Volume</th>\n",
       "    </tr>\n",
       "  </thead>\n",
       "  <tbody>\n",
       "    <tr>\n",
       "      <th>0</th>\n",
       "      <td>2011-10-04</td>\n",
       "      <td>374.570</td>\n",
       "      <td>381.8000</td>\n",
       "      <td>354.2400</td>\n",
       "      <td>372.50</td>\n",
       "      <td>44059900.0</td>\n",
       "      <td>0.0</td>\n",
       "      <td>1.0</td>\n",
       "      <td>47.964530</td>\n",
       "      <td>48.890347</td>\n",
       "      <td>45.361228</td>\n",
       "      <td>47.699462</td>\n",
       "      <td>308419300.0</td>\n",
       "    </tr>\n",
       "    <tr>\n",
       "      <th>1</th>\n",
       "      <td>2011-10-05</td>\n",
       "      <td>367.860</td>\n",
       "      <td>379.8200</td>\n",
       "      <td>360.3000</td>\n",
       "      <td>378.25</td>\n",
       "      <td>28088200.0</td>\n",
       "      <td>0.0</td>\n",
       "      <td>1.0</td>\n",
       "      <td>47.105299</td>\n",
       "      <td>48.636804</td>\n",
       "      <td>46.137224</td>\n",
       "      <td>48.435762</td>\n",
       "      <td>196617400.0</td>\n",
       "    </tr>\n",
       "    <tr>\n",
       "      <th>2</th>\n",
       "      <td>2011-10-06</td>\n",
       "      <td>373.330</td>\n",
       "      <td>384.7800</td>\n",
       "      <td>371.8045</td>\n",
       "      <td>377.37</td>\n",
       "      <td>29020800.0</td>\n",
       "      <td>0.0</td>\n",
       "      <td>1.0</td>\n",
       "      <td>47.805745</td>\n",
       "      <td>49.271943</td>\n",
       "      <td>47.610401</td>\n",
       "      <td>48.323076</td>\n",
       "      <td>203145600.0</td>\n",
       "    </tr>\n",
       "    <tr>\n",
       "      <th>3</th>\n",
       "      <td>2011-10-07</td>\n",
       "      <td>375.780</td>\n",
       "      <td>377.7400</td>\n",
       "      <td>368.4890</td>\n",
       "      <td>369.80</td>\n",
       "      <td>19123500.0</td>\n",
       "      <td>0.0</td>\n",
       "      <td>1.0</td>\n",
       "      <td>48.119473</td>\n",
       "      <td>48.370455</td>\n",
       "      <td>47.185844</td>\n",
       "      <td>47.353721</td>\n",
       "      <td>133864500.0</td>\n",
       "    </tr>\n",
       "    <tr>\n",
       "      <th>4</th>\n",
       "      <td>2011-10-10</td>\n",
       "      <td>379.090</td>\n",
       "      <td>388.8100</td>\n",
       "      <td>378.2100</td>\n",
       "      <td>388.81</td>\n",
       "      <td>15804100.0</td>\n",
       "      <td>0.0</td>\n",
       "      <td>1.0</td>\n",
       "      <td>48.543326</td>\n",
       "      <td>49.787994</td>\n",
       "      <td>48.430640</td>\n",
       "      <td>49.787994</td>\n",
       "      <td>110628700.0</td>\n",
       "    </tr>\n",
       "    <tr>\n",
       "      <th>...</th>\n",
       "      <td>...</td>\n",
       "      <td>...</td>\n",
       "      <td>...</td>\n",
       "      <td>...</td>\n",
       "      <td>...</td>\n",
       "      <td>...</td>\n",
       "      <td>...</td>\n",
       "      <td>...</td>\n",
       "      <td>...</td>\n",
       "      <td>...</td>\n",
       "      <td>...</td>\n",
       "      <td>...</td>\n",
       "      <td>...</td>\n",
       "    </tr>\n",
       "    <tr>\n",
       "      <th>1588</th>\n",
       "      <td>2018-01-26</td>\n",
       "      <td>172.000</td>\n",
       "      <td>172.0000</td>\n",
       "      <td>170.0600</td>\n",
       "      <td>171.51</td>\n",
       "      <td>39143011.0</td>\n",
       "      <td>0.0</td>\n",
       "      <td>1.0</td>\n",
       "      <td>172.000000</td>\n",
       "      <td>172.000000</td>\n",
       "      <td>170.060000</td>\n",
       "      <td>171.510000</td>\n",
       "      <td>39143011.0</td>\n",
       "    </tr>\n",
       "    <tr>\n",
       "      <th>1589</th>\n",
       "      <td>2018-01-29</td>\n",
       "      <td>170.160</td>\n",
       "      <td>170.1600</td>\n",
       "      <td>167.0700</td>\n",
       "      <td>167.96</td>\n",
       "      <td>50640406.0</td>\n",
       "      <td>0.0</td>\n",
       "      <td>1.0</td>\n",
       "      <td>170.160000</td>\n",
       "      <td>170.160000</td>\n",
       "      <td>167.070000</td>\n",
       "      <td>167.960000</td>\n",
       "      <td>50640406.0</td>\n",
       "    </tr>\n",
       "    <tr>\n",
       "      <th>1590</th>\n",
       "      <td>2018-01-30</td>\n",
       "      <td>165.525</td>\n",
       "      <td>167.3700</td>\n",
       "      <td>164.7000</td>\n",
       "      <td>166.97</td>\n",
       "      <td>46048185.0</td>\n",
       "      <td>0.0</td>\n",
       "      <td>1.0</td>\n",
       "      <td>165.525000</td>\n",
       "      <td>167.370000</td>\n",
       "      <td>164.700000</td>\n",
       "      <td>166.970000</td>\n",
       "      <td>46048185.0</td>\n",
       "    </tr>\n",
       "    <tr>\n",
       "      <th>1591</th>\n",
       "      <td>2018-01-31</td>\n",
       "      <td>166.870</td>\n",
       "      <td>168.4417</td>\n",
       "      <td>166.5000</td>\n",
       "      <td>167.43</td>\n",
       "      <td>32478930.0</td>\n",
       "      <td>0.0</td>\n",
       "      <td>1.0</td>\n",
       "      <td>166.870000</td>\n",
       "      <td>168.441700</td>\n",
       "      <td>166.500000</td>\n",
       "      <td>167.430000</td>\n",
       "      <td>32478930.0</td>\n",
       "    </tr>\n",
       "    <tr>\n",
       "      <th>1592</th>\n",
       "      <td>2018-02-01</td>\n",
       "      <td>167.165</td>\n",
       "      <td>168.6200</td>\n",
       "      <td>166.7600</td>\n",
       "      <td>167.78</td>\n",
       "      <td>47230787.0</td>\n",
       "      <td>0.0</td>\n",
       "      <td>1.0</td>\n",
       "      <td>167.165000</td>\n",
       "      <td>168.620000</td>\n",
       "      <td>166.760000</td>\n",
       "      <td>167.780000</td>\n",
       "      <td>47230787.0</td>\n",
       "    </tr>\n",
       "  </tbody>\n",
       "</table>\n",
       "<p>1593 rows × 13 columns</p>\n",
       "</div>"
      ],
      "text/plain": [
       "            Date     Open      High       Low   Close      Volume  Dividend  \\\n",
       "0     2011-10-04  374.570  381.8000  354.2400  372.50  44059900.0       0.0   \n",
       "1     2011-10-05  367.860  379.8200  360.3000  378.25  28088200.0       0.0   \n",
       "2     2011-10-06  373.330  384.7800  371.8045  377.37  29020800.0       0.0   \n",
       "3     2011-10-07  375.780  377.7400  368.4890  369.80  19123500.0       0.0   \n",
       "4     2011-10-10  379.090  388.8100  378.2100  388.81  15804100.0       0.0   \n",
       "...          ...      ...       ...       ...     ...         ...       ...   \n",
       "1588  2018-01-26  172.000  172.0000  170.0600  171.51  39143011.0       0.0   \n",
       "1589  2018-01-29  170.160  170.1600  167.0700  167.96  50640406.0       0.0   \n",
       "1590  2018-01-30  165.525  167.3700  164.7000  166.97  46048185.0       0.0   \n",
       "1591  2018-01-31  166.870  168.4417  166.5000  167.43  32478930.0       0.0   \n",
       "1592  2018-02-01  167.165  168.6200  166.7600  167.78  47230787.0       0.0   \n",
       "\n",
       "      Split    Adj_Open    Adj_High     Adj_Low   Adj_Close   Adj_Volume  \n",
       "0       1.0   47.964530   48.890347   45.361228   47.699462  308419300.0  \n",
       "1       1.0   47.105299   48.636804   46.137224   48.435762  196617400.0  \n",
       "2       1.0   47.805745   49.271943   47.610401   48.323076  203145600.0  \n",
       "3       1.0   48.119473   48.370455   47.185844   47.353721  133864500.0  \n",
       "4       1.0   48.543326   49.787994   48.430640   49.787994  110628700.0  \n",
       "...     ...         ...         ...         ...         ...          ...  \n",
       "1588    1.0  172.000000  172.000000  170.060000  171.510000   39143011.0  \n",
       "1589    1.0  170.160000  170.160000  167.070000  167.960000   50640406.0  \n",
       "1590    1.0  165.525000  167.370000  164.700000  166.970000   46048185.0  \n",
       "1591    1.0  166.870000  168.441700  166.500000  167.430000   32478930.0  \n",
       "1592    1.0  167.165000  168.620000  166.760000  167.780000   47230787.0  \n",
       "\n",
       "[1593 rows x 13 columns]"
      ]
     },
     "execution_count": 4,
     "metadata": {},
     "output_type": "execute_result"
    }
   ],
   "source": [
    "#Get stock quote - we import just the opening and closing Prices of stock, over 20 years duration\n",
    "\n",
    "df = pd.read_csv(r\"C:\\Users\\USER\\Downloads\\Stock-price-predicition-master\\Stock-price-predicition-master\\csv files\\AAPL.csv\")\n",
    "df"
   ]
  },
  {
   "cell_type": "code",
   "execution_count": 5,
   "metadata": {
    "colab": {
     "base_uri": "https://localhost:8080/",
     "height": 34
    },
    "colab_type": "code",
    "id": "NiTAF2f3In4A",
    "outputId": "735daa8f-a747-44b6-bbc5-d506f0ac1079"
   },
   "outputs": [
    {
     "data": {
      "text/plain": [
       "(1593, 13)"
      ]
     },
     "execution_count": 5,
     "metadata": {},
     "output_type": "execute_result"
    }
   ],
   "source": [
    "df.shape"
   ]
  },
  {
   "cell_type": "code",
   "execution_count": 6,
   "metadata": {
    "colab": {},
    "colab_type": "code",
    "id": "BQw5ZLyKYDgB"
   },
   "outputs": [],
   "source": [
    "#choose plotting style\n",
    "plt.style.use('dark_background')\n",
    "#plt.style.use('seaborn')"
   ]
  },
  {
   "cell_type": "code",
   "execution_count": 7,
   "metadata": {
    "colab": {
     "base_uri": "https://localhost:8080/",
     "height": 521
    },
    "colab_type": "code",
    "id": "Po2tpyF6In4e",
    "outputId": "f905a4a2-e208-4a5a-e09f-823acf142e93"
   },
   "outputs": [
    {
     "data": {
      "image/png": "[encoded data removed]",
      "text/plain": [
       "<Figure size 1600x800 with 1 Axes>"
      ]
     },
     "metadata": {},
     "output_type": "display_data"
    }
   ],
   "source": [
    "plt.figure(figsize=(16,8))\n",
    "plt.ylim(0, 800)\n",
    "plt.title('Opening Price')\n",
    "plt.plot(df['Open'])\n",
    "plt.xlabel('Date', fontsize=18)\n",
    "plt.ylabel('Open Price USD ($)', fontsize=18)\n",
    "plt.show()"
   ]
  },
  {
   "cell_type": "code",
   "execution_count": 8,
   "metadata": {
    "colab": {
     "base_uri": "https://localhost:8080/",
     "height": 34
    },
    "colab_type": "code",
    "id": "KdEgDzTBIn4-",
    "outputId": "511b2b4c-66f4-4b96-8b4f-50644f2a8243"
   },
   "outputs": [
    {
     "data": {
      "text/plain": [
       "1275"
      ]
     },
     "execution_count": 8,
     "metadata": {},
     "output_type": "execute_result"
    }
   ],
   "source": [
    "data=df.filter(['Open'])\n",
    "\n",
    "#Convert to np array\n",
    "dataset=data.values\n",
    "\n",
    "#Get the number of rows to train the model on\n",
    "#math.ceil to round up \n",
    "\n",
    "training_data_len = math.ceil(len(dataset)*.8)\n",
    "\n",
    "\n",
    "#print(dataset)\n",
    "training_data_len"
   ]
  },
  {
   "cell_type": "code",
   "execution_count": 9,
   "metadata": {
    "colab": {},
    "colab_type": "code",
    "id": "5pp9vHJxIn5a"
   },
   "outputs": [],
   "source": [
    "#Scale the data\n",
    "\n",
    "scaler = MinMaxScaler(feature_range=(0,1))\n",
    "scaled_data = scaler.fit_transform(dataset)\n",
    "\n"
   ]
  },
  {
   "cell_type": "code",
   "execution_count": 10,
   "metadata": {
    "colab": {
     "base_uri": "https://localhost:8080/",
     "height": 260
    },
    "colab_type": "code",
    "id": "u-TDzVQ7In5s",
    "outputId": "cf1bce70-e72d-4a67-fe26-c1f82582bfb9"
   },
   "outputs": [
    {
     "name": "stdout",
     "output_type": "stream",
     "text": [
      "[array([0.46467236, 0.45371565, 0.46264757, 0.46664816, 0.47205304,\n",
      "       0.49406443, 0.51818226, 0.51432864, 0.53367842, 0.54169592,\n",
      "       0.54172858, 0.50840123, 0.50619683, 0.50309433, 0.49995918,\n",
      "       0.51441028, 0.50907072, 0.5185415 , 0.51109551, 0.51014843,\n",
      "       0.50196764, 0.50634379, 0.50467824, 0.5095116 , 0.50604987,\n",
      "       0.50980552, 0.50124916, 0.50134714, 0.48433239, 0.47928692,\n",
      "       0.47484528, 0.48864323, 0.48003788, 0.47177544, 0.4578632 ,\n",
      "       0.45887559, 0.46457439, 0.45463007, 0.46104734, 0.46674613,\n",
      "       0.4756454 , 0.47768652, 0.48959031, 0.4955667 , 0.49396646,\n",
      "       0.4897536 , 0.49223559, 0.49452164, 0.49261116, 0.49476658,\n",
      "       0.48447935, 0.4789765 , 0.47412681, 0.47757221, 0.48621022,\n",
      "       0.50079195, 0.50129815, 0.50569063, 0.5112588 , 0.51744746])]\n",
      "[0.5117486651099753]\n",
      "\n"
     ]
    }
   ],
   "source": [
    "#Create training dataset\n",
    "#Create scaled training dataset\n",
    "\n",
    "train_data = scaled_data[0:training_data_len,:]\n",
    "\n",
    "#Split the data into x_train and y_train data set\n",
    "\n",
    "x_train=[]\n",
    "y_train=[]\n",
    "\n",
    "for i in range(60, len(train_data)):\n",
    "    x_train.append(train_data[i-60:i,0])\n",
    "    y_train.append(train_data[i,0])\n",
    "    if i<=60:\n",
    "        print(x_train)\n",
    "        print(y_train)\n",
    "        print()"
   ]
  },
  {
   "cell_type": "code",
   "execution_count": 11,
   "metadata": {
    "colab": {},
    "colab_type": "code",
    "id": "nSmeb3afIn6E"
   },
   "outputs": [],
   "source": [
    "#convert the x_train and y_train to numpy arrays\n",
    "x_train, y_train = np.array(x_train), np.array(y_train)"
   ]
  },
  {
   "cell_type": "code",
   "execution_count": 12,
   "metadata": {
    "colab": {
     "base_uri": "https://localhost:8080/",
     "height": 34
    },
    "colab_type": "code",
    "id": "1oVwfAu4In6a",
    "outputId": "dfaba2b9-9167-4204-cfbb-b7cac0c84e04"
   },
   "outputs": [
    {
     "data": {
      "text/plain": [
       "(1215, 60, 1)"
      ]
     },
     "execution_count": 12,
     "metadata": {},
     "output_type": "execute_result"
    }
   ],
   "source": [
    "#Reshape the data into 3 dimensional\n",
    "x_train = np.reshape(x_train, (x_train.shape[0], x_train.shape[1], 1))\n",
    "x_train.shape"
   ]
  },
  {
   "cell_type": "markdown",
   "metadata": {
    "colab_type": "text",
    "id": "UNs1SsjiOAAp"
   },
   "source": [
    "## Model training "
   ]
  },
  {
   "cell_type": "code",
   "execution_count": 13,
   "metadata": {
    "colab": {},
    "colab_type": "code",
    "id": "Y6RwuEFPIn6_",
    "scrolled": true
   },
   "outputs": [
    {
     "name": "stdout",
     "output_type": "stream",
     "text": [
      "Model: \"sequential\"\n",
      "_________________________________________________________________\n",
      " Layer (type)                Output Shape              Param #   \n",
      "=================================================================\n",
      " lstm (LSTM)                 (None, 60, 50)            10400     \n",
      "                                                                 \n",
      " lstm_1 (LSTM)               (None, 50)                20200     \n",
      "                                                                 \n",
      " dense (Dense)               (None, 25)                1275      \n",
      "                                                                 \n",
      " dense_1 (Dense)             (None, 1)                 26        \n",
      "                                                                 \n",
      "=================================================================\n",
      "Total params: 31,901\n",
      "Trainable params: 31,901\n",
      "Non-trainable params: 0\n",
      "_________________________________________________________________\n"
     ]
    }
   ],
   "source": [
    "#Build LSTM model\n",
    "model=Sequential()\n",
    "#Add first layer to model\n",
    "model.add(LSTM(50, return_sequences=True, input_shape=(x_train.shape[1],1)))\n",
    "#Add second layer to model\n",
    "model.add(LSTM(50, return_sequences=False))\n",
    "#Add Dense Layer to model with 25 neurons\n",
    "model.add(Dense(25))\n",
    "#Add Dense Layer to model with 1 neuron\n",
    "model.add(Dense(1))\n",
    "\n",
    "model.summary()"
   ]
  },
  {
   "cell_type": "code",
   "execution_count": 14,
   "metadata": {
    "colab": {},
    "colab_type": "code",
    "id": "ryE2rTOMIn7X"
   },
   "outputs": [],
   "source": [
    "#Compile the model\n",
    "#Adam (Adaptive Moment Estimation) is an optimization algorithm that is \n",
    "#commonly used in machine learning to update the weights of neural network models during training. \n",
    "\n",
    "model.compile(optimizer='adam', loss='mean_squared_error')\n"
   ]
  },
  {
   "cell_type": "code",
   "execution_count": null,
   "metadata": {
    "colab": {
     "base_uri": "https://localhost:8080/",
     "height": 139
    },
    "colab_type": "code",
    "id": "vmAwD6mUIn7r",
    "outputId": "926dad42-42a2-477f-c7b7-102c75d87138",
    "scrolled": true
   },
   "outputs": [
    {
     "name": "stdout",
     "output_type": "stream",
     "text": [
      "Epoch 1/3\n",
      " 151/1215 [==>...........................] - ETA: 17s - loss: 0.0292"
     ]
    }
   ],
   "source": [
    "#Train the model\n",
    "model.fit(x_train, y_train, batch_size=1,epochs=3)"
   ]
  },
  {
   "cell_type": "markdown",
   "metadata": {
    "colab_type": "text",
    "id": "-__xdsJ_OKUg"
   },
   "source": [
    "## Testing and Validating model"
   ]
  },
  {
   "cell_type": "code",
   "execution_count": 16,
   "metadata": {
    "colab": {},
    "colab_type": "code",
    "id": "QlX9uNw3In8R"
   },
   "outputs": [],
   "source": [
    "#Create the test data set\n",
    "#Create a new array containing scaled values\n",
    "\n",
    "test_data=scaled_data[training_data_len-60: , : ]\n",
    "#Create the data sets x_test and y_test\n",
    "\n",
    "x_test=[]\n",
    "y_test=dataset[training_data_len:,:]\n",
    "for i in range(60, len(test_data)):\n",
    "    x_test.append(test_data[i-60:i,0])\n",
    "    \n"
   ]
  },
  {
   "cell_type": "code",
   "execution_count": 17,
   "metadata": {
    "colab": {},
    "colab_type": "code",
    "id": "9GWP-0_DIn8z"
   },
   "outputs": [],
   "source": [
    "#Convert the data to a numpy array\n",
    "\n",
    "x_test=np.array(x_test)\n"
   ]
  },
  {
   "cell_type": "code",
   "execution_count": 18,
   "metadata": {
    "colab": {},
    "colab_type": "code",
    "id": "0ogsB0ZdIn9J"
   },
   "outputs": [],
   "source": [
    "#Reshape the data to 3d\n",
    "x_test=np.reshape(x_test,(x_test.shape[0], x_test.shape[1], 1))\n"
   ]
  },
  {
   "cell_type": "code",
   "execution_count": 19,
   "metadata": {
    "colab": {},
    "colab_type": "code",
    "id": "Yud6qyU6In9Z"
   },
   "outputs": [
    {
     "name": "stdout",
     "output_type": "stream",
     "text": [
      "10/10 [==============================] - 2s 28ms/step\n"
     ]
    }
   ],
   "source": [
    "#Get the models predicted price values\n",
    "\n",
    "predictions=model.predict(x_test)\n",
    "predictions=scaler.inverse_transform(predictions)\n"
   ]
  },
  {
   "cell_type": "code",
   "execution_count": 20,
   "metadata": {
    "colab": {
     "base_uri": "https://localhost:8080/",
     "height": 34
    },
    "colab_type": "code",
    "id": "2mlIpi4VIn9z",
    "outputId": "087adb1a-c595-4a3f-f7f1-9f213eaa5ff5"
   },
   "outputs": [
    {
     "data": {
      "text/plain": [
       "3.0093276152220914"
      ]
     },
     "execution_count": 20,
     "metadata": {},
     "output_type": "execute_result"
    }
   ],
   "source": [
    "#Get root mean squared error(RMSE)\n",
    "\n",
    "rmse =np.sqrt(np.mean(predictions-y_test)**2)\n",
    "rmse\n",
    "\n"
   ]
  },
  {
   "cell_type": "code",
   "execution_count": 21,
   "metadata": {
    "colab": {},
    "colab_type": "code",
    "id": "yBbVWNWSaGgT"
   },
   "outputs": [],
   "source": [
    "#choose plotting style\n",
    "\n",
    "#plt.style.use('fivethirtyeight')\n",
    "plt.style.use('dark_background')\n",
    "#plt.style.use('ggplot')\n",
    "#plt.style.use('seaborn-whitegrid')\n",
    "#plt.style.use('bmh')\n",
    "#plt.style.use('seaborn')"
   ]
  },
  {
   "cell_type": "code",
   "execution_count": 22,
   "metadata": {
    "colab": {
     "base_uri": "https://localhost:8080/",
     "height": 625
    },
    "colab_type": "code",
    "id": "dpG0ZTlAIn-G",
    "outputId": "1e575ed9-e2a2-4051-9321-3a96277ddbbf",
    "scrolled": true
   },
   "outputs": [
    {
     "name": "stderr",
     "output_type": "stream",
     "text": [
      "C:\\Users\\USER\\AppData\\Local\\Temp\\ipykernel_10220\\3840310323.py:5: SettingWithCopyWarning: \n",
      "A value is trying to be set on a copy of a slice from a DataFrame.\n",
      "Try using .loc[row_indexer,col_indexer] = value instead\n",
      "\n",
      "See the caveats in the documentation: https://pandas.pydata.org/pandas-docs/stable/user_guide/indexing.html#returning-a-view-versus-a-copy\n",
      "  valid['predictions'] = predictions\n"
     ]
    },
    {
     "data": {
      "image/png": "[encoded data removed]",
      "text/plain": [
       "<Figure size 1600x800 with 1 Axes>"
      ]
     },
     "metadata": {},
     "output_type": "display_data"
    }
   ],
   "source": [
    "#plot the data\n",
    "\n",
    "train=data[:training_data_len]\n",
    "valid=data[training_data_len:]\n",
    "valid['predictions'] = predictions\n",
    "\n",
    "#Visualize the data\n",
    "plt.figure(figsize=(16,8))\n",
    "plt.title('AAPL company - Model prediciton comparison')\n",
    "plt.xlabel('Date', fontsize=18)\n",
    "plt.ylabel('Open Price USD($)', fontsize=18)\n",
    "plt.plot(train['Open'] , color='red')\n",
    "plt.plot(valid['Open'] , color='yellow')\n",
    "plt.plot(valid[ 'predictions'] , color='green')\n",
    "plt.legend(['Train','Validation', 'predictions'], loc='lower right')\n",
    "plt.savefig(r'C:\\Users\\USER\\Downloads\\Stock-price-predicition-master\\Stock-price-predicition-master\\Images')\n",
    "plt.show()\n"
   ]
  },
  {
   "cell_type": "code",
   "execution_count": 23,
   "metadata": {
    "colab": {
     "base_uri": "https://localhost:8080/",
     "height": 551
    },
    "colab_type": "code",
    "id": "9IZAwTwYIn-Y",
    "outputId": "c6ce6c44-c6ec-447a-ef40-e06f237c6a3e"
   },
   "outputs": [
    {
     "data": {
      "text/html": [
       "<div>\n",
       "<style scoped>\n",
       "    .dataframe tbody tr th:only-of-type {\n",
       "        vertical-align: middle;\n",
       "    }\n",
       "\n",
       "    .dataframe tbody tr th {\n",
       "        vertical-align: top;\n",
       "    }\n",
       "\n",
       "    .dataframe thead th {\n",
       "        text-align: right;\n",
       "    }\n",
       "</style>\n",
       "<table border=\"1\" class=\"dataframe\">\n",
       "  <thead>\n",
       "    <tr style=\"text-align: right;\">\n",
       "      <th></th>\n",
       "      <th>Open</th>\n",
       "      <th>predictions</th>\n",
       "    </tr>\n",
       "  </thead>\n",
       "  <tbody>\n",
       "    <tr>\n",
       "      <th>1578</th>\n",
       "      <td>174.590</td>\n",
       "      <td>178.639771</td>\n",
       "    </tr>\n",
       "    <tr>\n",
       "      <th>1579</th>\n",
       "      <td>176.180</td>\n",
       "      <td>178.758850</td>\n",
       "    </tr>\n",
       "    <tr>\n",
       "      <th>1580</th>\n",
       "      <td>177.900</td>\n",
       "      <td>179.448135</td>\n",
       "    </tr>\n",
       "    <tr>\n",
       "      <th>1581</th>\n",
       "      <td>176.150</td>\n",
       "      <td>180.699448</td>\n",
       "    </tr>\n",
       "    <tr>\n",
       "      <th>1582</th>\n",
       "      <td>179.370</td>\n",
       "      <td>181.114059</td>\n",
       "    </tr>\n",
       "    <tr>\n",
       "      <th>1583</th>\n",
       "      <td>178.610</td>\n",
       "      <td>182.220276</td>\n",
       "    </tr>\n",
       "    <tr>\n",
       "      <th>1584</th>\n",
       "      <td>177.300</td>\n",
       "      <td>182.925079</td>\n",
       "    </tr>\n",
       "    <tr>\n",
       "      <th>1585</th>\n",
       "      <td>177.300</td>\n",
       "      <td>182.784195</td>\n",
       "    </tr>\n",
       "    <tr>\n",
       "      <th>1586</th>\n",
       "      <td>177.250</td>\n",
       "      <td>182.380203</td>\n",
       "    </tr>\n",
       "    <tr>\n",
       "      <th>1587</th>\n",
       "      <td>174.505</td>\n",
       "      <td>181.987320</td>\n",
       "    </tr>\n",
       "    <tr>\n",
       "      <th>1588</th>\n",
       "      <td>172.000</td>\n",
       "      <td>180.758911</td>\n",
       "    </tr>\n",
       "    <tr>\n",
       "      <th>1589</th>\n",
       "      <td>170.160</td>\n",
       "      <td>178.768326</td>\n",
       "    </tr>\n",
       "    <tr>\n",
       "      <th>1590</th>\n",
       "      <td>165.525</td>\n",
       "      <td>176.532700</td>\n",
       "    </tr>\n",
       "    <tr>\n",
       "      <th>1591</th>\n",
       "      <td>166.870</td>\n",
       "      <td>173.344528</td>\n",
       "    </tr>\n",
       "    <tr>\n",
       "      <th>1592</th>\n",
       "      <td>167.165</td>\n",
       "      <td>171.372452</td>\n",
       "    </tr>\n",
       "  </tbody>\n",
       "</table>\n",
       "</div>"
      ],
      "text/plain": [
       "         Open  predictions\n",
       "1578  174.590   178.639771\n",
       "1579  176.180   178.758850\n",
       "1580  177.900   179.448135\n",
       "1581  176.150   180.699448\n",
       "1582  179.370   181.114059\n",
       "1583  178.610   182.220276\n",
       "1584  177.300   182.925079\n",
       "1585  177.300   182.784195\n",
       "1586  177.250   182.380203\n",
       "1587  174.505   181.987320\n",
       "1588  172.000   180.758911\n",
       "1589  170.160   178.768326\n",
       "1590  165.525   176.532700\n",
       "1591  166.870   173.344528\n",
       "1592  167.165   171.372452"
      ]
     },
     "execution_count": 23,
     "metadata": {},
     "output_type": "execute_result"
    }
   ],
   "source": [
    "#Show the valid and predicted prices\n",
    "\n",
    "valid.tail(15)"
   ]
  },
  {
   "cell_type": "markdown",
   "metadata": {
    "colab_type": "text",
    "id": "EwVZro2_OFLH"
   },
   "source": [
    "# Getting predicitions - for tomorrow"
   ]
  },
  {
   "cell_type": "code",
   "execution_count": 24,
   "metadata": {
    "colab": {
     "base_uri": "https://localhost:8080/",
     "height": 34
    },
    "colab_type": "code",
    "id": "GXS4uLtRIn-s",
    "outputId": "ffc0d544-710f-4145-fee1-c40a39f5fa62"
   },
   "outputs": [
    {
     "name": "stdout",
     "output_type": "stream",
     "text": [
      "1/1 [==============================] - 0s 53ms/step\n",
      "Opening Price of AAPL tomorrow:[[170.61949]]\n"
     ]
    }
   ],
   "source": [
    "new_df=df.filter(['Open'])\n",
    "#Get last 60 days values and convert into array\n",
    "last_60_days=new_df[-60:].values\n",
    "\n",
    "#Scale the data to be values between 0\n",
    "last_60_days_scaled=scaler.transform(last_60_days)\n",
    "\n",
    "#Create an empty list\n",
    "X_test=[]\n",
    "#Appemd the past 60days\n",
    "X_test.append(last_60_days_scaled)\n",
    "\n",
    "#Conver the X_test data into numpy array\n",
    "X_test = np.array(X_test)\n",
    "\n",
    "#Reshape the data\n",
    "X_test = np.reshape(X_test, (X_test.shape[0], X_test.shape[1],1))\n",
    "#Get predicted scaled price\n",
    "pred_price = model.predict(X_test)\n",
    "#undo the scaling\n",
    "pred_price=scaler.inverse_transform(pred_price)\n",
    "print(f'Opening Price of {ticker} tomorrow:{pred_price}')"
   ]
  },
  {
   "cell_type": "code",
   "execution_count": 1,
   "metadata": {},
   "outputs": [
    {
     "ename": "NameError",
     "evalue": "name 'df' is not defined",
     "output_type": "error",
     "traceback": [
      "\u001b[1;31m---------------------------------------------------------------------------\u001b[0m",
      "\u001b[1;31mNameError\u001b[0m                                 Traceback (most recent call last)",
      "\u001b[1;32m~\\AppData\\Local\\Temp\\ipykernel_11640\\768499069.py\u001b[0m in \u001b[0;36m<module>\u001b[1;34m\u001b[0m\n\u001b[1;32m----> 1\u001b[1;33m \u001b[0mnew_df\u001b[0m\u001b[1;33m=\u001b[0m\u001b[0mdf\u001b[0m\u001b[1;33m.\u001b[0m\u001b[0mfilter\u001b[0m\u001b[1;33m(\u001b[0m\u001b[1;33m[\u001b[0m\u001b[1;34m'Open'\u001b[0m\u001b[1;33m]\u001b[0m\u001b[1;33m)\u001b[0m\u001b[1;33m\u001b[0m\u001b[1;33m\u001b[0m\u001b[0m\n\u001b[0m\u001b[0;32m      2\u001b[0m \u001b[1;33m\u001b[0m\u001b[0m\n\u001b[0;32m      3\u001b[0m \u001b[1;31m# Set number of days to predict\u001b[0m\u001b[1;33m\u001b[0m\u001b[1;33m\u001b[0m\u001b[0m\n\u001b[0;32m      4\u001b[0m \u001b[0mnum_days\u001b[0m \u001b[1;33m=\u001b[0m \u001b[1;36m30\u001b[0m\u001b[1;33m\u001b[0m\u001b[1;33m\u001b[0m\u001b[0m\n\u001b[0;32m      5\u001b[0m \u001b[1;33m\u001b[0m\u001b[0m\n",
      "\u001b[1;31mNameError\u001b[0m: name 'df' is not defined"
     ]
    }
   ],
   "source": [
    "new_df=df.filter(['Open'])\n",
    "\n",
    "# Set number of days to predict\n",
    "num_days = 30\n",
    "\n",
    "# Create an empty list to store predicted prices\n",
    "predicted_prices = []\n",
    "\n",
    "# Predict prices for the next num_days days\n",
    "for i in range(num_days):\n",
    "    # Get last 60 days' data and scale it\n",
    "    last_60_days = new_df[-60:].values\n",
    "    last_60_days_scaled = scaler.transform(last_60_days)\n",
    "    \n",
    "    # Reshape the data and make the prediction\n",
    "    X_test = np.array([last_60_days_scaled])\n",
    "    X_test = np.reshape(X_test, (X_test.shape[0], X_test.shape[1], 1))\n",
    "    pred_price = model.predict(X_test)\n",
    "    pred_price = scaler.inverse_transform(pred_price)\n",
    "    \n",
    "    # Append the predicted price to the list\n",
    "    predicted_prices.append(pred_price[0][0])\n",
    "    \n",
    "    # Add the predicted price to the dataframe for the next iteration\n",
    "    new_df.loc[len(new_df)] = [pred_price[0][0]]\n",
    "\n",
    "# Create an array of x-axis values\n",
    "x_values = np.arange(1, num_days + 1)\n",
    "\n",
    "# Plot the predicted prices against the x-axis values\n",
    "plt.plot(x_values, predicted_prices)\n",
    "plt.xlabel('Days')\n",
    "plt.ylabel('Opening Price')\n",
    "plt.title(f'Predicted Opening Prices for Next {num_days} Days')\n",
    "plt.show()\n"
   ]
  },
  {
   "cell_type": "code",
   "execution_count": null,
   "metadata": {},
   "outputs": [],
   "source": []
  }
 ],
 "metadata": {
  "colab": {
   "collapsed_sections": [
    "RfFPY58dPFDp"
   ],
   "name": "Opening_Price_Prediction- keras.ipynb",
   "provenance": []
  },
  "kernelspec": {
   "display_name": "Python 3 (ipykernel)",
   "language": "python",
   "name": "python3"
  },
  "language_info": {
   "codemirror_mode": {
    "name": "ipython",
    "version": 3
   },
   "file_extension": ".py",
   "mimetype": "text/x-python",
   "name": "python",
   "nbconvert_exporter": "python",
   "pygments_lexer": "ipython3",
   "version": "3.9.13"
  }
 },
 "nbformat": 4,
 "nbformat_minor": 1
}
